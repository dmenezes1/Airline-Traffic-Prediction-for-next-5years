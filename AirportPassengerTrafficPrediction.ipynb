{
 "cells": [
  {
   "cell_type": "markdown",
   "metadata": {},
   "source": [
    "AIRLINE TRAFFIC PREDICTION FOR THE NEXT 5 YEARS BY TEAM HAWKS\n",
    "\n",
    "Donovan Menezes\n",
    "Gordon Mathias\n",
    "Mohammed Shafiur Rahman\n",
    "Nithya Ramachandran\n",
    "Ramu Valliappan\n",
    "\n"
   ]
  },
  {
   "cell_type": "markdown",
   "metadata": {},
   "source": [
    "Analysis on Populous Airports by Passenger Traffic and Prediction of Top 5 Busiest Airports based on Webscrapped Data.\n",
    "\n",
    "Fetching data from Wikipedia:\n",
    "\n",
    "Data is webscrapped from https://en.wikipedia.org/wiki/List_of_busiest_airports_by_passenger_traffic. The big picture about this data is, it contains year wise list of top 50 airports across the globe based on passenger traffic and the percent change in passenger traffic as compared to the previous year, from year 2000 to year 2016.\n",
    "\n",
    "This project incorporates the following steps:\n",
    "1. Fecth data from website.\n",
    "2. Extract the required tables.\n",
    "3. Create a dictionary of airports with country, yearwise passenger traffic and year wise passenger traffic percentage change.\n",
    "4. Convert the dictionary to dataframe\n",
    "5. Save the extracted data as HTML and CSV files.\n",
    "6. Analysis and plot of most populous airports globally and the growth pattern.\n",
    "7. Analysis and plot of most populous airports in United States of America and the growth pattern.\n",
    "8. Predictive Analysis on passenger traffic growth pattern to indentify the top 5 busiest airports.\n",
    "9. Analysis and pie chart of the top five airports worldwide at the end of 2016 and at the end of 2021"
   ]
  },
  {
   "cell_type": "code",
   "execution_count": 2,
   "metadata": {
    "collapsed": true
   },
   "outputs": [],
   "source": [
    "from collections import defaultdict\n",
    "import pandas as pd\n",
    "import matplotlib.pyplot as plt; plt.rcdefaults()\n",
    "import requests\n",
    "import numpy as np\n",
    "from pattern import web\n",
    "import seaborn as sns"
   ]
  },
  {
   "cell_type": "markdown",
   "metadata": {},
   "source": [
    "Fetch data from Wikipedia and extract required tables"
   ]
  },
  {
   "cell_type": "code",
   "execution_count": null,
   "metadata": {
    "collapsed": false
   },
   "outputs": [],
   "source": [
    "url = 'https://en.wikipedia.org/wiki/List_of_busiest_airports_by_passenger_traffic'\n",
    "website_html = requests.get(url).text\n",
    "print website_html"
   ]
  },
  {
   "cell_type": "code",
   "execution_count": null,
   "metadata": {
    "collapsed": true
   },
   "outputs": [],
   "source": [
    "dom = web.Element(website_html)\n",
    "tables = dom.by_class('wikitable sortable')"
   ]
  },
  {
   "cell_type": "code",
   "execution_count": null,
   "metadata": {
    "collapsed": true
   },
   "outputs": [],
   "source": [
    "result = defaultdict(dict)\n",
    "count = 0\n",
    "year = 2016"
   ]
  },
  {
   "cell_type": "markdown",
   "metadata": {},
   "source": [
    "Create a dictionary from the extracted tables"
   ]
  },
  {
   "cell_type": "code",
   "execution_count": null,
   "metadata": {
    "collapsed": false
   },
   "outputs": [],
   "source": [
    "for tbl in tables:\n",
    "    \n",
    "    count += 1\n",
    "    if count < 11:\n",
    "        \n",
    "        headers = tbl('tr')\n",
    "        first_header = headers[0]\n",
    "        th_s = first_header('th')\n",
    "        \n",
    "        #Fetch the country header\n",
    "        attribute_country = [str(\"00\") + str(th_s[3].content)]\n",
    "        country_index = 3\n",
    "        \n",
    "        #Fetch the total passenger and percent change header\n",
    "        attribute_parameters = [str(year) + \" \" + str(th_s[5].content).replace(\"<br />\",\" \").replace(\"\\n\",\"\"), str(year) + \" \" + str(th_s[7].content).replace(\"<br />\",\" \").replace(\"\\n\",\"\")]\n",
    "        parameters_index = [5,7]\n",
    "        \n",
    "        rows = tbl('tr')[1:]\n",
    "        for i in range(0,len(rows)):\n",
    "            \n",
    "            row = rows[i]\n",
    "            tds = row('td')\n",
    "            \n",
    "            #Fetch the airport name\n",
    "            airport_name = tds[1]('a')[1].content\n",
    "            \n",
    "            #Add the airport to the dictionary\n",
    "            if airport_name not in result:  \n",
    "                airport_country = [tds[country_index].content]\n",
    "                subdict = dict(zip(attribute_country,airport_country))\n",
    "                result[airport_name].update(subdict)\n",
    "                \n",
    "            #Fetch the total passenger traffic and passenger traffic percent change\n",
    "            airport_parameters = []\n",
    "            for colindex in parameters_index:\n",
    "                if colindex == 5:   \n",
    "                    if tds[colindex].content.find(\"<\") == -1:\n",
    "                        airport_parameters.append(int(tds[colindex].content.replace(\",\",\"\")))\n",
    "                    else:\n",
    "                        airport_parameters.append(int(tds[colindex].content[0:tds[colindex].content.find(\"<\")].replace(\",\",\"\")))\n",
    "                if colindex == 7:\n",
    "                    try:\n",
    "                        if tds[colindex].content.find(\"Decrease\") > -1:                \n",
    "                            airport_parameters.append(float(tds[colindex].content[tds[colindex].content.rfind(\">\")+1:].replace(\"%\",\"\"))*-1)\n",
    "                        else:\n",
    "                            airport_parameters.append(float(tds[colindex].content[tds[colindex].content.rfind(\">\")+1:].replace(\"%\",\"\")))\n",
    "                    except:\n",
    "                        airport_parameters.append(tds[colindex].content[tds[colindex].content.rfind(\">\")+1:].replace(\"%\",\"\"))\n",
    "            \n",
    "            #Add the total passenger traffic and passenger traffic percent change to the dictionary\n",
    "            subdict = dict(zip(attribute_parameters, airport_parameters))           \n",
    "            result[airport_name].update(subdict)\n",
    "        year = year - 1\n",
    "        \n",
    "print result"
   ]
  },
  {
   "cell_type": "markdown",
   "metadata": {},
   "source": [
    "Convert the dictionary to dataframe"
   ]
  },
  {
   "cell_type": "code",
   "execution_count": null,
   "metadata": {
    "collapsed": true
   },
   "outputs": [],
   "source": [
    "df = pd.DataFrame.from_dict(result, orient='index')\n",
    "df.sort_index(axis=1,inplace=True)"
   ]
  },
  {
   "cell_type": "markdown",
   "metadata": {},
   "source": [
    "Export the dataframe as HTML file"
   ]
  },
  {
   "cell_type": "code",
   "execution_count": null,
   "metadata": {
    "collapsed": true
   },
   "outputs": [],
   "source": [
    "outfile = open(\"C:/Ramu Valliappan/GSU/MSIS/Courses/Data Programming/Project/dataset.html\", \"w\")\n",
    "outfile.seek(0)\n",
    "outfile.truncate()\n",
    "outfile.write(df.to_html().encode(\"utf-8\"))\n",
    "outfile.close() "
   ]
  },
  {
   "cell_type": "markdown",
   "metadata": {},
   "source": [
    "Export the data as CSV file"
   ]
  },
  {
   "cell_type": "code",
   "execution_count": null,
   "metadata": {
    "collapsed": true
   },
   "outputs": [],
   "source": [
    "df.to_csv(\"C:/Ramu Valliappan/GSU/MSIS/Courses/Data Programming/Project/Results.csv\",  encoding='utf-8')"
   ]
  },
  {
   "cell_type": "markdown",
   "metadata": {},
   "source": [
    "Create a sub dataframe for year wise passenger traffic"
   ]
  },
  {
   "cell_type": "code",
   "execution_count": null,
   "metadata": {
    "collapsed": true
   },
   "outputs": [],
   "source": [
    "countryPassengerTraffic = ['00Country','2007 Total passengers','2008 Total passengers','2009 Total passengers','2010 Total passengers','2011 Total passengers','2012 Total passengers','2013 Total passengers','2014 Total passengers','2015 Total passengers','2016 Total passengers']\n",
    "countryPassengerTraffic_df = pd.DataFrame(df,columns=countryPassengerTraffic)"
   ]
  },
  {
   "cell_type": "code",
   "execution_count": null,
   "metadata": {
    "collapsed": true
   },
   "outputs": [],
   "source": [
    "passengerTraffic = ['2007 Total passengers','2008 Total passengers','2009 Total passengers','2010 Total passengers','2011 Total passengers','2012 Total passengers','2013 Total passengers','2014 Total passengers','2015 Total passengers','2016 Total passengers']\n",
    "passengerTraffic_df = pd.DataFrame(countryPassengerTraffic_df,columns=passengerTraffic)\n",
    "passengerTraffic_df.columns = [2007, 2008, 2009, 2010, 2011, 2012, 2013, 2014, 2015, 2016]"
   ]
  },
  {
   "cell_type": "markdown",
   "metadata": {},
   "source": [
    "Analysis - Worldwide passenger traffic and growth pattern"
   ]
  },
  {
   "cell_type": "code",
   "execution_count": null,
   "metadata": {
    "collapsed": false
   },
   "outputs": [],
   "source": [
    "iSum = 0\n",
    "iCount = 0\n",
    "lresult= []\n",
    "\n",
    "#Create a new index on column to store the total passenger traffic for all the years\n",
    "countryPassengerTraffic_df[\"Total Passengers\"] = 0\n",
    "\n",
    "for index, row in countryPassengerTraffic_df.iterrows():\n",
    "    for iRow in range(1, len(countryPassengerTraffic)):\n",
    "        if (pd.notnull(row[iRow])):\n",
    "            iSum += row[iRow]\n",
    "    lresult.append(iSum)\n",
    "    iSum = 0\n",
    "    iCount = 0\n",
    "    \n",
    "countryPassengerTraffic_df[\"Total Passengers\"] = np.asarray(lresult)"
   ]
  },
  {
   "cell_type": "code",
   "execution_count": null,
   "metadata": {
    "collapsed": false
   },
   "outputs": [],
   "source": [
    "topFiveCountryPassengerTraffic_df = countryPassengerTraffic_df.sort_values([\"Total Passengers\"], ascending = [False]).head(5)"
   ]
  },
  {
   "cell_type": "markdown",
   "metadata": {},
   "source": [
    "Plot - Most populous airports based on passenger traffic - Worldwide"
   ]
  },
  {
   "cell_type": "code",
   "execution_count": null,
   "metadata": {
    "collapsed": false
   },
   "outputs": [],
   "source": [
    "objects = list(topFiveCountryPassengerTraffic_df.index)\n",
    "y_pos = np.arange(len(objects))\n",
    "performance = topFiveCountryPassengerTraffic_df[\"Total Passengers\"].tolist()\n",
    "\n",
    "plt.bar(y_pos, performance, align='center', alpha=0.5, width = 0.5, color = sns.color_palette(\"Greens_d\"))\n",
    "plt.xticks(y_pos, objects, rotation = 90)\n",
    "plt.ylabel('No. of Passengers')\n",
    "plt.title('Most populous airports based \\non passenger traffic - Worldwide')\n",
    "\n",
    "plt.show()"
   ]
  },
  {
   "cell_type": "markdown",
   "metadata": {},
   "source": [
    "Plot - Passenger traffic growth pattern - Worldwide"
   ]
  },
  {
   "cell_type": "code",
   "execution_count": null,
   "metadata": {
    "collapsed": false
   },
   "outputs": [],
   "source": [
    "airportNamesWorldwide = list(topFiveCountryPassengerTraffic_df.index)\n",
    "\n",
    "for airport in airportNamesWorldwide:\n",
    "    row = passengerTraffic_df.ix[airport]\n",
    "    plt.plot(row.index, row, label=row.name ) \n",
    "    \n",
    "plt.ylim(ymin=0)\n",
    "plt.xticks(rotation=70)\n",
    "plt.legend(loc='best')\n",
    "plt.xlabel(\"Airports\")\n",
    "plt.ylabel(\"Passenger Traffic\")\n",
    "plt.title(\"Trends in passenger traffic\\n(2007 - 2016) - Worldwide\")\n",
    "\n",
    "plt.show()"
   ]
  },
  {
   "cell_type": "markdown",
   "metadata": {},
   "source": [
    "Analysis - USA passenger traffic and growth pattern"
   ]
  },
  {
   "cell_type": "code",
   "execution_count": null,
   "metadata": {
    "collapsed": true
   },
   "outputs": [],
   "source": [
    "USAPassengerTraffic_df = countryPassengerTraffic_df.loc[countryPassengerTraffic_df[\"00Country\"] == \"United States\"]\n",
    "\n",
    "USAPassengerTraffic_df = USAPassengerTraffic_df.sort_values([\"Total Passengers\"], ascending = [False]).head(5)"
   ]
  },
  {
   "cell_type": "markdown",
   "metadata": {},
   "source": [
    "Plot - Most populous airports based on passenger traffic - USA"
   ]
  },
  {
   "cell_type": "code",
   "execution_count": null,
   "metadata": {
    "collapsed": false
   },
   "outputs": [],
   "source": [
    "objects = list(USAPassengerTraffic_df.index)\n",
    "y_pos = np.arange(len(objects))\n",
    "performance = USAPassengerTraffic_df[\"Total Passengers\"].tolist()\n",
    "\n",
    "\n",
    "plt.bar(y_pos, performance, align='center', alpha=0.5, width = 0.5, color = sns.color_palette(\"Reds_d\"))\n",
    "plt.xticks(y_pos, objects, rotation = 90)\n",
    "plt.ylabel('No of Passengers')\n",
    "plt.title('Most popular airports based \\non passenger traffic - USA')\n",
    "\n",
    "plt.show()"
   ]
  },
  {
   "cell_type": "markdown",
   "metadata": {},
   "source": [
    "Plot - Passenger traffic growth pattern - Worldwide"
   ]
  },
  {
   "cell_type": "code",
   "execution_count": null,
   "metadata": {
    "collapsed": false
   },
   "outputs": [],
   "source": [
    "airportNamesUSA = list(USAPassengerTraffic_df.index)\n",
    "\n",
    "for airport in airportNamesUSA:\n",
    "    row = passengerTraffic_df.ix[airport]\n",
    "    plt.plot(row.index, row, label=row.name ) \n",
    "    \n",
    "plt.ylim(ymin=0)\n",
    "plt.xticks(rotation=70)\n",
    "plt.legend(loc='best')\n",
    "plt.xlabel(\"Airports\")\n",
    "plt.ylabel(\"Passenger Traffic\")\n",
    "plt.title(\"Trends in passenger traffic (2007 - 2016) - USA\")\n",
    "\n",
    "plt.show()"
   ]
  },
  {
   "cell_type": "markdown",
   "metadata": {},
   "source": [
    "Predictive Analysis on passenger traffic growth pattern to indentify the top 5 busiest airports"
   ]
  },
  {
   "cell_type": "code",
   "execution_count": null,
   "metadata": {
    "collapsed": true
   },
   "outputs": [],
   "source": [
    "countryPassengerTraffic = ['00Country','2007 Total passengers','2008 Total passengers','2009 Total passengers','2010 Total passengers','2011 Total passengers','2012 Total passengers','2013 Total passengers','2014 Total passengers','2015 Total passengers','2016 Total passengers']\n",
    "countryPassengerTraffic_df = pd.DataFrame(df,columns=countryPassengerTraffic)"
   ]
  },
  {
   "cell_type": "code",
   "execution_count": null,
   "metadata": {
    "collapsed": true
   },
   "outputs": [],
   "source": [
    "passengerTrafficPercentage =['2007 % Change','2008 % Change','2009 % Change','2010 % Change','2011 % Change','2012 % Change','2013 % Change','2014 % Change','2015 % Change','2016 % Change']\n",
    "passengerTrafficPercentage_df = pd.DataFrame(df,columns=passengerTrafficPercentage)"
   ]
  },
  {
   "cell_type": "code",
   "execution_count": null,
   "metadata": {
    "collapsed": false
   },
   "outputs": [],
   "source": [
    "iSum = 0\n",
    "iCount = 0\n",
    "lresult= []\n",
    "\n",
    "for index, row in passengerTrafficPercentage_df.iterrows():\n",
    "    for iRow in range(0, len(passengerTrafficPercentage)):\n",
    "        if (pd.notnull(row[iRow]) and row[iRow]!=\"\"):\n",
    "            iSum = iSum + row[iRow]\n",
    "            iCount += 1\n",
    "    if iSum != 0 and iCount != 0:\n",
    "        value = iSum / iCount\n",
    "    lresult.append(value)\n",
    "    iSum = 0\n",
    "    iCount = 0\n",
    "\n",
    "countryPassengerTraffic_df[\"Total % change\"] = np.asarray(lresult)"
   ]
  },
  {
   "cell_type": "markdown",
   "metadata": {},
   "source": [
    "Prediction Logic"
   ]
  },
  {
   "cell_type": "code",
   "execution_count": null,
   "metadata": {
    "collapsed": false
   },
   "outputs": [],
   "source": [
    "for i in range (2017,2022):\n",
    "    futureYear = i\n",
    "    currentYear = i-1\n",
    "    futureIndex = str(futureYear) + \" Total passengers\"\n",
    "    currentIndex = str(currentYear) + \" Total passengers\"\n",
    "    val = []\n",
    "    countryPassengerTraffic_df = countryPassengerTraffic_df[countryPassengerTraffic_df[currentIndex].notnull()]\n",
    "    countryPassengerTraffic_df[futureIndex] = 0\n",
    "    for row in countryPassengerTraffic_df[currentIndex]:\n",
    "        if (pd.notnull(row)):\n",
    "            value = (row * (1+ (countryPassengerTraffic_df['Total % change']/100)))\n",
    "        val.append(value)\n",
    "    countryPassengerTraffic_df[futureIndex] = np.asarray(val) "
   ]
  },
  {
   "cell_type": "markdown",
   "metadata": {},
   "source": [
    "Top 5 Airports by 2021 - Worldwide"
   ]
  },
  {
   "cell_type": "code",
   "execution_count": null,
   "metadata": {
    "collapsed": false
   },
   "outputs": [],
   "source": [
    "topFive2020CountryPassengerTraffic_df = countryPassengerTraffic_df.sort_values([\"2021 Total passengers\"], ascending = [False]).head(5)\n",
    "\n",
    "futurePassengerTraffic = ['2017 Total passengers','2018 Total passengers','2019 Total passengers','2020 Total passengers','2021 Total passengers']\n",
    "futurePassengerTraffic_df = pd.DataFrame(countryPassengerTraffic_df,columns=futurePassengerTraffic)\n",
    "futurePassengerTraffic_df.columns = [2017, 2018, 2019, 2020, 2021]"
   ]
  },
  {
   "cell_type": "code",
   "execution_count": null,
   "metadata": {
    "collapsed": false
   },
   "outputs": [],
   "source": [
    "airportNamesWorldwide = list(topFive2020CountryPassengerTraffic_df.index)\n",
    "\n",
    "for airport in airportNamesWorldwide:\n",
    "    row = futurePassengerTraffic_df.ix[airport]\n",
    "    plt.plot(row.index, row, label=row.name ) \n",
    "    \n",
    "plt.ylim(ymin=0)\n",
    "plt.xticks(rotation=70)\n",
    "plt.legend(loc='best')\n",
    "plt.xlabel(\"Airports\")\n",
    "plt.ylabel(\"Passenger Traffic\")\n",
    "plt.title(\"Predicted Trends in Passenger Traffic\\n(2017 - 2021) - Worldwide\")\n",
    "\n",
    "plt.show()"
   ]
  },
  {
   "cell_type": "markdown",
   "metadata": {},
   "source": [
    "Top 5 Airports by 2021 - USA"
   ]
  },
  {
   "cell_type": "code",
   "execution_count": null,
   "metadata": {
    "collapsed": true
   },
   "outputs": [],
   "source": [
    "futureUSAPassengerTraffic_df = countryPassengerTraffic_df.loc[countryPassengerTraffic_df[\"00Country\"] == \"United States\"]\n",
    "\n",
    "futureUSAPassengerTraffic_df = futureUSAPassengerTraffic_df.sort_values([\"2021 Total passengers\"], ascending = [False]).head(5)"
   ]
  },
  {
   "cell_type": "code",
   "execution_count": null,
   "metadata": {
    "collapsed": false
   },
   "outputs": [],
   "source": [
    "airportNamesUSA = list(futureUSAPassengerTraffic_df.index)\n",
    "\n",
    "for airport in airportNamesUSA:\n",
    "    row = futurePassengerTraffic_df.ix[airport]\n",
    "    plt.plot(row.index, row, label=row.name ) \n",
    "    \n",
    "plt.ylim(ymin=0)\n",
    "plt.xticks(rotation=70)\n",
    "plt.legend(loc='best')\n",
    "plt.xlabel(\"Airports\")\n",
    "plt.ylabel(\"Passenger Traffic\")\n",
    "plt.title(\"Predicted Trends in Passenger Traffic\\n(2017 - 2021) - USA\")\n",
    "\n",
    "plt.show()"
   ]
  },
  {
   "cell_type": "markdown",
   "metadata": {
    "collapsed": true
   },
   "source": [
    "Pie Charts"
   ]
  },
  {
   "cell_type": "code",
   "execution_count": null,
   "metadata": {
    "collapsed": false
   },
   "outputs": [],
   "source": [
    "result0 = pd.DataFrame(topFiveCountryPassengerTraffic_df.groupby([topFiveCountryPassengerTraffic_df.index], as_index = True).agg({'Total Passengers':sum}).sort_values(by = 'Total Passengers', ascending=False))[0:5]\n",
    "\n",
    "result1 = pd.DataFrame(topFive2020CountryPassengerTraffic_df.groupby([topFive2020CountryPassengerTraffic_df.index], as_index = True).agg({'2020 Total passengers':sum}).sort_values(by = '2020 Total passengers', ascending=False))[0:5]\n",
    "\n",
    "values0 = [float(i) for i in result0[\"Total Passengers\"]]\n",
    "values1 = [float(i) for i in result1[\"2020 Total passengers\"]]\n",
    "\n",
    "values=[values0, values1]\n",
    "colors = ['b', 'g', 'r', 'c', 'm']\n",
    "\n",
    "labels0 = [str(i) for i in result0.index.str.encode('utf-8')]\n",
    "labels1 = [str(i) for i in result1.index.str.encode('utf-8')]\n",
    "\n",
    "\n",
    "labels=[labels0, labels1]\n",
    "title=['Popular airports 2007 - 2016','Popular airports 2017 - 2021']\n",
    "\n",
    "# move the second value section out of the chart. The higher the number the farther it gets moved\n",
    "\n",
    "explode = (0.1, 0, 0, 0, 0)\n",
    "\n",
    "for i in range(0,2):\n",
    "\n",
    "# autopct the %.1f is Python formating and %% used to show as percent\n",
    "    plt.figure(i)\n",
    "    fig=plt.figure(figsize=(5, 3), dpi= 80, facecolor='w')\n",
    "    labels[i] = [x.decode('UTF8') for x in labels[i]]\n",
    "    plt.pie(values[i], colors=colors, labels=labels[i], \n",
    "            explode=explode, autopct='%.1f%%',\n",
    "            counterclock=False, shadow=True)\n",
    "\n",
    "    plt.title(title[i])\n",
    "\n",
    "\n",
    "plt.show()"
   ]
  }
 ],
 "metadata": {
  "kernelspec": {
   "display_name": "Python 2",
   "language": "python",
   "name": "python2"
  },
  "language_info": {
   "codemirror_mode": {
    "name": "ipython",
    "version": 2
   },
   "file_extension": ".py",
   "mimetype": "text/x-python",
   "name": "python",
   "nbconvert_exporter": "python",
   "pygments_lexer": "ipython2",
   "version": "2.7.13"
  }
 },
 "nbformat": 4,
 "nbformat_minor": 2
}
